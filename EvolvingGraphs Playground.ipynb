{
 "cells": [
  {
   "cell_type": "markdown",
   "metadata": {},
   "source": [
    "# Trying out `EvolvingGraphs`\n",
    "\n",
    "We're interested in using the [`EvolvingGraphs`](http://evolvinggraphsjl.readthedocs.io/en/latest/overview.html)."
   ]
  },
  {
   "cell_type": "code",
   "execution_count": 1,
   "metadata": {
    "collapsed": false
   },
   "outputs": [
    {
     "name": "stderr",
     "output_type": "stream",
     "text": [
      "\u001b[1m\u001b[34mINFO: Nothing to be done\n",
      "\u001b[0m\u001b[1m\u001b[34mINFO: METADATA is out-of-date — you may not have the latest version of EvolvingGraphs\n",
      "\u001b[0m\u001b[1m\u001b[34mINFO: Use `Pkg.update()` to get the latest versions of your packages\n",
      "\u001b[0m\u001b[1m\u001b[34mINFO: Nothing to be done\n",
      "\u001b[0m\u001b[1m\u001b[34mINFO: METADATA is out-of-date — you may not have the latest version of Interact\n",
      "\u001b[0m\u001b[1m\u001b[34mINFO: Use `Pkg.update()` to get the latest versions of your packages\n",
      "\u001b[0m\u001b[1m\u001b[34mINFO: Nothing to be done\n",
      "\u001b[0m\u001b[1m\u001b[34mINFO: METADATA is out-of-date — you may not have the latest version of TikzGraphs\n",
      "\u001b[0m\u001b[1m\u001b[34mINFO: Use `Pkg.update()` to get the latest versions of your packages\n",
      "\u001b[0m\u001b[1m\u001b[34mINFO: Nothing to be done\n",
      "\u001b[0m\u001b[1m\u001b[34mINFO: METADATA is out-of-date — you may not have the latest version of LightGraphs\n",
      "\u001b[0m\u001b[1m\u001b[34mINFO: Use `Pkg.update()` to get the latest versions of your packages\n",
      "\u001b[0m"
     ]
    }
   ],
   "source": [
    "Pkg.add(\"EvolvingGraphs\")\n",
    "Pkg.add(\"Interact\")\n",
    "Pkg.add(\"TikzGraphs\")\n",
    "Pkg.add(\"LightGraphs\")\n",
    "\n",
    "using EvolvingGraphs"
   ]
  },
  {
   "cell_type": "markdown",
   "metadata": {},
   "source": [
    "The [tutorial for the EvolvingGraphs](http://evolvinggraphsjl.readthedocs.io/en/latest/tutorial.html) package has some stuff we can work through.\n",
    "\n",
    "Let's start by creating a graph with a couple of edges at different times:"
   ]
  },
  {
   "cell_type": "code",
   "execution_count": 2,
   "metadata": {
    "collapsed": false
   },
   "outputs": [
    {
     "data": {
      "text/plain": [
       "Directed EvolvingGraph (0 nodes, 0 static edges, 0 timestamps)"
      ]
     },
     "execution_count": 2,
     "metadata": {},
     "output_type": "execute_result"
    }
   ],
   "source": [
    "graph = evolving_graph()"
   ]
  },
  {
   "cell_type": "code",
   "execution_count": 3,
   "metadata": {
    "collapsed": false
   },
   "outputs": [
    {
     "data": {
      "text/plain": [
       "Node(1)->Node(2) at time 1"
      ]
     },
     "execution_count": 3,
     "metadata": {},
     "output_type": "execute_result"
    }
   ],
   "source": [
    "add_edge!(graph, 1, 2, 1)"
   ]
  },
  {
   "cell_type": "code",
   "execution_count": 4,
   "metadata": {
    "collapsed": false
   },
   "outputs": [
    {
     "data": {
      "text/plain": [
       "1-element Array{Int64,1}:\n",
       " 1"
      ]
     },
     "execution_count": 4,
     "metadata": {},
     "output_type": "execute_result"
    }
   ],
   "source": [
    "timestamps(graph)"
   ]
  },
  {
   "cell_type": "code",
   "execution_count": 5,
   "metadata": {
    "collapsed": false
   },
   "outputs": [
    {
     "data": {
      "text/plain": [
       "2-element Array{Int64,1}:\n",
       " 1\n",
       " 2"
      ]
     },
     "execution_count": 5,
     "metadata": {},
     "output_type": "execute_result"
    }
   ],
   "source": [
    "add_edge!(graph, 1, 3, 2)\n",
    "timestamps(graph)"
   ]
  },
  {
   "cell_type": "code",
   "execution_count": 6,
   "metadata": {
    "collapsed": false
   },
   "outputs": [
    {
     "data": {
      "text/plain": [
       "2-element Array{EvolvingGraphs.TimeEdge{EvolvingGraphs.Node{Int64},Int64},1}:\n",
       " Node(1)->Node(2) at time 1\n",
       " Node(1)->Node(3) at time 2"
      ]
     },
     "execution_count": 6,
     "metadata": {},
     "output_type": "execute_result"
    }
   ],
   "source": [
    "edges(graph)"
   ]
  },
  {
   "cell_type": "markdown",
   "metadata": {},
   "source": [
    "This graph is _directed_, which is perfect for our use case. We should be able to reconstruct simple SKOS hierarchies in this system. Let's try playing with weighted edges."
   ]
  },
  {
   "cell_type": "code",
   "execution_count": 7,
   "metadata": {
    "collapsed": false
   },
   "outputs": [
    {
     "data": {
      "text/plain": [
       "Directed EvolvingGraph (0 nodes, 0 static edges, 0 timestamps)"
      ]
     },
     "execution_count": 7,
     "metadata": {},
     "output_type": "execute_result"
    }
   ],
   "source": [
    "wg = weighted_evolving_graph(String, Int, Int)"
   ]
  },
  {
   "cell_type": "code",
   "execution_count": 8,
   "metadata": {
    "collapsed": false
   },
   "outputs": [
    {
     "data": {
      "text/plain": [
       "Node(http://example.com/Moomin_Mama)-1->Node(http://example.com/Snorkmaiden) at time 3"
      ]
     },
     "execution_count": 8,
     "metadata": {},
     "output_type": "execute_result"
    }
   ],
   "source": [
    "# Assume edge weight 1 = foaf:knows\n",
    "add_edge!(wg, \"http://example.com/Moomin\", \"http://example.com/Moomin_Mama\", 1, 1)\n",
    "add_edge!(wg, \"http://example.com/Moomin\", \"http://example.com/Moomin_Papa\", 1, 1)\n",
    "add_edge!(wg, \"http://example.com/Moomin\", \"http://example.com/Moomin_Mama\", 2, 1)\n",
    "add_edge!(wg, \"http://example.com/Moomin\", \"http://example.com/Moomin_Papa\", 2, 1)\n",
    "add_edge!(wg, \"http://example.com/Moomin\", \"http://example.com/Snorkmaiden\", 2, 1)\n",
    "add_edge!(wg, \"http://example.com/Moomin\", \"http://example.com/Moomin_Mama\", 3, 1)\n",
    "add_edge!(wg, \"http://example.com/Moomin\", \"http://example.com/Moomin_Papa\", 3, 1)\n",
    "add_edge!(wg, \"http://example.com/Moomin\", \"http://example.com/Snorkmaiden\", 3, 1)\n",
    "add_edge!(wg, \"http://example.com/Moomin\", \"http://example.com/Snuffkin\", 3, 1)\n",
    "add_edge!(wg, \"http://example.com/Moomin_Papa\", \"http://example.com/Snuffkin\", 3, 1)\n",
    "add_edge!(wg, \"http://example.com/Moomin_Mama\", \"http://example.com/Snorkmaiden\", 3, 1)"
   ]
  },
  {
   "cell_type": "markdown",
   "metadata": {},
   "source": [
    "Each timestamp can be converted to an adjacency matrix."
   ]
  },
  {
   "cell_type": "code",
   "execution_count": 9,
   "metadata": {
    "collapsed": false
   },
   "outputs": [
    {
     "data": {
      "text/plain": [
       "5×5 Array{Float64,2}:\n",
       " 0.0  1.0  1.0  0.0  0.0\n",
       " 0.0  0.0  0.0  0.0  0.0\n",
       " 0.0  0.0  0.0  0.0  0.0\n",
       " 0.0  0.0  0.0  0.0  0.0\n",
       " 0.0  0.0  0.0  0.0  0.0"
      ]
     },
     "execution_count": 9,
     "metadata": {},
     "output_type": "execute_result"
    }
   ],
   "source": [
    "matrix(wg, 1)"
   ]
  },
  {
   "cell_type": "code",
   "execution_count": 10,
   "metadata": {
    "collapsed": false
   },
   "outputs": [
    {
     "data": {
      "text/plain": [
       "5×5 Array{Float64,2}:\n",
       " 0.0  1.0  1.0  1.0  1.0\n",
       " 0.0  0.0  0.0  1.0  0.0\n",
       " 0.0  0.0  0.0  0.0  1.0\n",
       " 0.0  0.0  0.0  0.0  0.0\n",
       " 0.0  0.0  0.0  0.0  0.0"
      ]
     },
     "execution_count": 10,
     "metadata": {},
     "output_type": "execute_result"
    }
   ],
   "source": [
    "matrix(wg, 3)"
   ]
  },
  {
   "cell_type": "markdown",
   "metadata": {},
   "source": [
    "Or to edge lists."
   ]
  },
  {
   "cell_type": "code",
   "execution_count": 11,
   "metadata": {
    "collapsed": false
   },
   "outputs": [
    {
     "data": {
      "text/plain": [
       "2-element Array{EvolvingGraphs.WeightedTimeEdge{EvolvingGraphs.Node{String},Int64,Int64},1}:\n",
       " Node(http://example.com/Moomin)-1->Node(http://example.com/Moomin_Mama) at time 1\n",
       " Node(http://example.com/Moomin)-1->Node(http://example.com/Moomin_Papa) at time 1"
      ]
     },
     "execution_count": 11,
     "metadata": {},
     "output_type": "execute_result"
    }
   ],
   "source": [
    "edges(wg, 1)"
   ]
  },
  {
   "cell_type": "markdown",
   "metadata": {},
   "source": [
    "With a populated graph, we can visualize its evolution over time."
   ]
  },
  {
   "cell_type": "code",
   "execution_count": 38,
   "metadata": {
    "collapsed": false
   },
   "outputs": [
    {
     "data": {
      "text/html": [],
      "text/plain": [
       "Interact.Options{:SelectionSlider,Int64}(Signal{Int64}(2, nactions=1),\"timestamp\",2,\"2\",Interact.OptionDict(DataStructures.OrderedDict(\"1\"=>1,\"2\"=>2,\"3\"=>3),Dict(2=>\"2\",3=>\"3\",1=>\"1\")),Any[],Any[],true,\"horizontal\")"
      ]
     },
     "metadata": {},
     "output_type": "display_data"
    },
    {
     "ename": "LoadError",
     "evalue": "MethodError: no method matching add_edge!(::LightGraphs.DiGraph, ::EvolvingGraphs.Node{String}, ::EvolvingGraphs.Node{String})\u001b[0m\nClosest candidates are:\n  add_edge!{V}(\u001b[1m\u001b[31m::EvolvingGraphs.AbstractStaticGraph{V,E}\u001b[0m, ::V, ::V) at /home/tjohnson/.julia/v0.5/EvolvingGraphs/src/graphs/time_graph.jl:88\n  add_edge!(\u001b[1m\u001b[31m::EvolvingGraphs.AbstractStaticGraph{V,E}\u001b[0m, ::Any, ::Any) at /home/tjohnson/.julia/v0.5/EvolvingGraphs/src/graphs/time_graph.jl:92\n  add_edge!{V,T,E<:EvolvingGraphs.TimeEdge{V,T}}(\u001b[1m\u001b[31m::EvolvingGraphs.EvolvingGraph{V,T,E<:EvolvingGraphs.TimeEdge,I}\u001b[0m, ::Any, ::Any, \u001b[1m\u001b[31m::Any\u001b[0m) at /home/tjohnson/.julia/v0.5/EvolvingGraphs/src/graphs/evolving_graph.jl:245\n  ...\u001b[0m",
     "output_type": "error",
     "traceback": [
      "MethodError: no method matching add_edge!(::LightGraphs.DiGraph, ::EvolvingGraphs.Node{String}, ::EvolvingGraphs.Node{String})\u001b[0m\nClosest candidates are:\n  add_edge!{V}(\u001b[1m\u001b[31m::EvolvingGraphs.AbstractStaticGraph{V,E}\u001b[0m, ::V, ::V) at /home/tjohnson/.julia/v0.5/EvolvingGraphs/src/graphs/time_graph.jl:88\n  add_edge!(\u001b[1m\u001b[31m::EvolvingGraphs.AbstractStaticGraph{V,E}\u001b[0m, ::Any, ::Any) at /home/tjohnson/.julia/v0.5/EvolvingGraphs/src/graphs/time_graph.jl:92\n  add_edge!{V,T,E<:EvolvingGraphs.TimeEdge{V,T}}(\u001b[1m\u001b[31m::EvolvingGraphs.EvolvingGraph{V,T,E<:EvolvingGraphs.TimeEdge,I}\u001b[0m, ::Any, ::Any, \u001b[1m\u001b[31m::Any\u001b[0m) at /home/tjohnson/.julia/v0.5/EvolvingGraphs/src/graphs/evolving_graph.jl:245\n  ...\u001b[0m",
      "",
      " in (::##53#54)(::Int64) at ./In[38]:8",
      " in (::Base.#kw##map)(::Array{Any,1}, ::Base.#map, ::Function, ::Reactive.Signal{Int64}) at ./<missing>:0",
      " in execute_request(::ZMQ.Socket, ::IJulia.Msg) at /home/tjohnson/.julia/v0.5/IJulia/src/execute_request.jl:157",
      " in eventloop(::ZMQ.Socket) at /home/tjohnson/.julia/v0.5/IJulia/src/eventloop.jl:8",
      " in (::IJulia.##13#19)() at ./task.jl:360"
     ]
    }
   ],
   "source": [
    "using Interact\n",
    "using TikzGraphs\n",
    "using LightGraphs\n",
    "\n",
    "@manipulate for timestamp = 1:3\n",
    "    es = edges(wg, timestamp)\n",
    "    g  = DiGraph()\n",
    "    add_edge!(g, source(es[1]), target(es[1]))\n",
    "end"
   ]
  },
  {
   "cell_type": "code",
   "execution_count": null,
   "metadata": {
    "collapsed": true
   },
   "outputs": [],
   "source": []
  }
 ],
 "metadata": {
  "kernelspec": {
   "display_name": "Julia 0.5.0",
   "language": "julia",
   "name": "julia-0.5"
  },
  "language_info": {
   "file_extension": ".jl",
   "mimetype": "application/julia",
   "name": "julia",
   "version": "0.5.0"
  }
 },
 "nbformat": 4,
 "nbformat_minor": 0
}
